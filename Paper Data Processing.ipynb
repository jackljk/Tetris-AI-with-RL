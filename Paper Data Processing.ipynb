{
 "cells": [
  {
   "cell_type": "code",
   "execution_count": 1,
   "metadata": {},
   "outputs": [],
   "source": [
    "from nes_py.wrappers import JoypadSpace\n",
    "import gym_tetris\n",
    "from gym_tetris.actions import MOVEMENT\n",
    "import torch\n",
    "import numpy as np"
   ]
  },
  {
   "cell_type": "code",
   "execution_count": 2,
   "metadata": {},
   "outputs": [],
   "source": [
    "import warnings\n",
    "warnings.filterwarnings('ignore')"
   ]
  },
  {
   "cell_type": "code",
   "execution_count": 3,
   "metadata": {},
   "outputs": [],
   "source": [
    "env = gym_tetris.make('TetrisA-v0')\n",
    "env = JoypadSpace(env, MOVEMENT)"
   ]
  },
  {
   "cell_type": "code",
   "execution_count": 26,
   "metadata": {},
   "outputs": [],
   "source": [
    "piece_dict = {'Tu': 0, 'Tr': 1, 'Td': 2, 'Tl': 3, 'Jl': 4, 'Ju': 5, 'Jr': 6, 'Jd': 7, 'Zh': 8, 'Zv': 9, 'O': 10, 'Sh': 11, 'Sv': 12, 'Lr': 13, 'Ld': 14, 'Ll': 15, 'Lu': 16, 'Iv': 17, 'Ih': 18}\n",
    "\n",
    "def process_board(board):\n",
    "    # Returns board, holes and boundaries\n",
    "    board = np.where(board == 239,0,1)\n",
    "    holes = np.zeros(board.shape[1], dtype=int)\n",
    "    boundaries = np.zeros(board.shape[1], dtype=int)\n",
    "\n",
    "    for col in range(board.shape[1]):\n",
    "        column_data = board[:, col]\n",
    "        first_block_idx = np.where(column_data == 1)[0]\n",
    "        if first_block_idx.size > 0:\n",
    "            first_block_idx = first_block_idx[0]\n",
    "            boundaries[col] = board.shape[0] - first_block_idx\n",
    "            holes[col] = np.count_nonzero(column_data[first_block_idx:] == 0)\n",
    "    \n",
    "    return board,holes,boundaries\n",
    "\n",
    "def concat_data(holes,boundaries,cur_piece,cleared_lines):\n",
    "    combined_array = np.concatenate((holes, boundaries))\n",
    "    final_array = np.append(combined_array, [cur_piece, cleared_lines])\n",
    "    return final_array\n",
    "\n",
    "done = True\n",
    "for step in range(5000):\n",
    "    if done:\n",
    "        state = env.reset()\n",
    "    state, reward, done, info = env.step(env.action_space.sample())\n",
    "    cur_piece = piece_dict[info[\"current_piece\"]]\n",
    "    cleared_lines = info[\"number_of_lines\"]\n",
    "    board, holes, boundaries = process_board(env.board)\n",
    "    state_data = concat_data(holes,boundaries,cur_piece,cleared_lines)\n",
    "    state_data = state_data.copy()\n",
    "    state_data = torch.tensor(state_data, dtype=torch.float32)\n",
    "    "
   ]
  }
 ],
 "metadata": {
  "kernelspec": {
   "display_name": "Python 3 (ipykernel)",
   "language": "python",
   "name": "python3"
  },
  "language_info": {
   "codemirror_mode": {
    "name": "ipython",
    "version": 3
   },
   "file_extension": ".py",
   "mimetype": "text/x-python",
   "name": "python",
   "nbconvert_exporter": "python",
   "pygments_lexer": "ipython3",
   "version": "3.9.13"
  }
 },
 "nbformat": 4,
 "nbformat_minor": 2
}
