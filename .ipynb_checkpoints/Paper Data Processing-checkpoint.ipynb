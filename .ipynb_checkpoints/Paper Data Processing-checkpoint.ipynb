{
 "cells": [
  {
   "cell_type": "code",
   "execution_count": 1,
   "metadata": {},
   "outputs": [],
   "source": [
    "from nes_py.wrappers import JoypadSpace\n",
    "import gym_tetris\n",
    "from gym_tetris.actions import MOVEMENT\n",
    "import torch\n",
    "import numpy as np"
   ]
  },
  {
   "cell_type": "code",
   "execution_count": 2,
   "metadata": {},
   "outputs": [],
   "source": [
    "import warnings\n",
    "warnings.filterwarnings('ignore')"
   ]
  },
  {
   "cell_type": "code",
   "execution_count": 65,
   "metadata": {},
   "outputs": [],
   "source": [
    "env = gym_tetris.make('TetrisA-v0')\n",
    "env = JoypadSpace(env, MOVEMENT)"
   ]
  },
  {
   "cell_type": "code",
   "execution_count": 69,
   "metadata": {},
   "outputs": [
    {
     "data": {
      "text/plain": [
       "(240, 256, 3)"
      ]
     },
     "execution_count": 69,
     "metadata": {},
     "output_type": "execute_result"
    }
   ],
   "source": [
    "env.reset().shape"
   ]
  },
  {
   "cell_type": "code",
   "execution_count": 113,
   "metadata": {},
   "outputs": [
    {
     "name": "stdout",
     "output_type": "stream",
     "text": [
      "Collecting stable-baselines3[extra]\n",
      "  Downloading stable_baselines3-2.2.1-py3-none-any.whl (181 kB)\n",
      "\u001b[2K     \u001b[90m━━━━━━━━━━━━━━━━━━━━━━━━━━━━━━━━━━━━━━━\u001b[0m \u001b[32m181.7/181.7 kB\u001b[0m \u001b[31m3.5 MB/s\u001b[0m eta \u001b[36m0:00:00\u001b[0ma \u001b[36m0:00:01\u001b[0m\n",
      "\u001b[?25hCollecting gymnasium<0.30,>=0.28.1\n",
      "  Downloading gymnasium-0.29.1-py3-none-any.whl (953 kB)\n",
      "\u001b[2K     \u001b[90m━━━━━━━━━━━━━━━━━━━━━━━━━━━━━━━━━━━━━━\u001b[0m \u001b[32m953.9/953.9 kB\u001b[0m \u001b[31m16.3 MB/s\u001b[0m eta \u001b[36m0:00:00\u001b[0ma \u001b[36m0:00:01\u001b[0m\n",
      "\u001b[?25hRequirement already satisfied: matplotlib in /Users/houkinwan/opt/anaconda3/lib/python3.9/site-packages (from stable-baselines3[extra]) (3.5.2)\n",
      "Requirement already satisfied: cloudpickle in /Users/houkinwan/opt/anaconda3/lib/python3.9/site-packages (from stable-baselines3[extra]) (2.0.0)\n",
      "Requirement already satisfied: numpy>=1.20 in /Users/houkinwan/opt/anaconda3/lib/python3.9/site-packages (from stable-baselines3[extra]) (1.26.4)\n",
      "Requirement already satisfied: torch>=1.13 in /Users/houkinwan/opt/anaconda3/lib/python3.9/site-packages (from stable-baselines3[extra]) (2.0.1)\n",
      "Requirement already satisfied: pandas in /Users/houkinwan/opt/anaconda3/lib/python3.9/site-packages (from stable-baselines3[extra]) (1.4.4)\n",
      "Collecting autorom[accept-rom-license]~=0.6.1\n",
      "  Downloading AutoROM-0.6.1-py3-none-any.whl (9.4 kB)\n",
      "Requirement already satisfied: pillow in /Users/houkinwan/opt/anaconda3/lib/python3.9/site-packages (from stable-baselines3[extra]) (9.2.0)\n",
      "Collecting shimmy[atari]~=1.3.0\n",
      "  Downloading Shimmy-1.3.0-py3-none-any.whl (37 kB)\n",
      "Requirement already satisfied: opencv-python in /Users/houkinwan/opt/anaconda3/lib/python3.9/site-packages (from stable-baselines3[extra]) (4.8.0.76)\n",
      "Requirement already satisfied: rich in /Users/houkinwan/opt/anaconda3/lib/python3.9/site-packages (from stable-baselines3[extra]) (13.5.2)\n",
      "Collecting pygame\n",
      "  Downloading pygame-2.5.2-cp39-cp39-macosx_10_9_x86_64.whl (12.8 MB)\n",
      "\u001b[2K     \u001b[90m━━━━━━━━━━━━━━━━━━━━━━━━━━━━━━━━━━━━━━━━\u001b[0m \u001b[32m12.8/12.8 MB\u001b[0m \u001b[31m12.3 MB/s\u001b[0m eta \u001b[36m0:00:00\u001b[0m00:01\u001b[0m00:01\u001b[0m\n",
      "\u001b[?25hRequirement already satisfied: psutil in /Users/houkinwan/opt/anaconda3/lib/python3.9/site-packages (from stable-baselines3[extra]) (5.9.0)\n",
      "Collecting tensorboard>=2.9.1\n",
      "  Downloading tensorboard-2.16.2-py3-none-any.whl (5.5 MB)\n",
      "\u001b[2K     \u001b[90m━━━━━━━━━━━━━━━━━━━━━━━━━━━━━━━━━━━━━━━━\u001b[0m \u001b[32m5.5/5.5 MB\u001b[0m \u001b[31m15.6 MB/s\u001b[0m eta \u001b[36m0:00:00\u001b[0m00:01\u001b[0m00:01\u001b[0m\n",
      "\u001b[?25hRequirement already satisfied: tqdm in /Users/houkinwan/opt/anaconda3/lib/python3.9/site-packages (from stable-baselines3[extra]) (4.66.2)\n",
      "Requirement already satisfied: click in /Users/houkinwan/opt/anaconda3/lib/python3.9/site-packages (from autorom[accept-rom-license]~=0.6.1->stable-baselines3[extra]) (8.0.4)\n",
      "Requirement already satisfied: requests in /Users/houkinwan/opt/anaconda3/lib/python3.9/site-packages (from autorom[accept-rom-license]~=0.6.1->stable-baselines3[extra]) (2.28.1)\n",
      "Collecting AutoROM.accept-rom-license\n",
      "  Downloading AutoROM.accept-rom-license-0.6.1.tar.gz (434 kB)\n",
      "\u001b[2K     \u001b[90m━━━━━━━━━━━━━━━━━━━━━━━━━━━━━━━━━━━━━━\u001b[0m \u001b[32m434.7/434.7 kB\u001b[0m \u001b[31m17.3 MB/s\u001b[0m eta \u001b[36m0:00:00\u001b[0m\n",
      "\u001b[?25h  Installing build dependencies ... \u001b[?25ldone\n",
      "\u001b[?25h  Getting requirements to build wheel ... \u001b[?25ldone\n",
      "\u001b[?25h  Preparing metadata (pyproject.toml) ... \u001b[?25ldone\n",
      "\u001b[?25hRequirement already satisfied: importlib-metadata>=4.8.0 in /Users/houkinwan/opt/anaconda3/lib/python3.9/site-packages (from gymnasium<0.30,>=0.28.1->stable-baselines3[extra]) (6.8.0)\n",
      "Requirement already satisfied: typing-extensions>=4.3.0 in /Users/houkinwan/opt/anaconda3/lib/python3.9/site-packages (from gymnasium<0.30,>=0.28.1->stable-baselines3[extra]) (4.10.0)\n",
      "Collecting farama-notifications>=0.0.1\n",
      "  Using cached Farama_Notifications-0.0.4-py3-none-any.whl (2.5 kB)\n",
      "Collecting ale-py~=0.8.1\n",
      "  Downloading ale_py-0.8.1-cp39-cp39-macosx_10_15_x86_64.whl (1.1 MB)\n",
      "\u001b[2K     \u001b[90m━━━━━━━━━━━━━━━━━━━━━━━━━━━━━━━━━━━━━━━━\u001b[0m \u001b[32m1.1/1.1 MB\u001b[0m \u001b[31m10.5 MB/s\u001b[0m eta \u001b[36m0:00:00\u001b[0ma \u001b[36m0:00:01\u001b[0m\n",
      "\u001b[?25hCollecting tensorboard-data-server<0.8.0,>=0.7.0\n",
      "  Downloading tensorboard_data_server-0.7.2-py3-none-macosx_10_9_x86_64.whl (4.8 MB)\n",
      "\u001b[2K     \u001b[90m━━━━━━━━━━━━━━━━━━━━━━━━━━━━━━━━━━━━━━━━\u001b[0m \u001b[32m4.8/4.8 MB\u001b[0m \u001b[31m10.1 MB/s\u001b[0m eta \u001b[36m0:00:00\u001b[0ma \u001b[36m0:00:01\u001b[0m\n",
      "\u001b[?25hRequirement already satisfied: protobuf!=4.24.0,>=3.19.6 in /Users/houkinwan/opt/anaconda3/lib/python3.9/site-packages (from tensorboard>=2.9.1->stable-baselines3[extra]) (4.23.4)\n",
      "Collecting grpcio>=1.48.2\n",
      "  Downloading grpcio-1.62.1-cp39-cp39-macosx_10_10_universal2.whl (10.1 MB)\n",
      "\u001b[2K     \u001b[90m━━━━━━━━━━━━━━━━━━━━━━━━━━━━━━━━━━━━━━━━\u001b[0m \u001b[32m10.1/10.1 MB\u001b[0m \u001b[31m14.3 MB/s\u001b[0m eta \u001b[36m0:00:00\u001b[0m00:01\u001b[0m0:01\u001b[0m\n",
      "\u001b[?25hRequirement already satisfied: setuptools>=41.0.0 in /Users/houkinwan/opt/anaconda3/lib/python3.9/site-packages (from tensorboard>=2.9.1->stable-baselines3[extra]) (63.4.1)\n",
      "Requirement already satisfied: six>1.9 in /Users/houkinwan/opt/anaconda3/lib/python3.9/site-packages (from tensorboard>=2.9.1->stable-baselines3[extra]) (1.16.0)\n",
      "Requirement already satisfied: markdown>=2.6.8 in /Users/houkinwan/opt/anaconda3/lib/python3.9/site-packages (from tensorboard>=2.9.1->stable-baselines3[extra]) (3.3.4)\n",
      "Requirement already satisfied: werkzeug>=1.0.1 in /Users/houkinwan/opt/anaconda3/lib/python3.9/site-packages (from tensorboard>=2.9.1->stable-baselines3[extra]) (2.0.3)\n",
      "Collecting absl-py>=0.4\n",
      "  Downloading absl_py-2.1.0-py3-none-any.whl (133 kB)\n",
      "\u001b[2K     \u001b[90m━━━━━━━━━━━━━━━━━━━━━━━━━━━━━━━━━━━━━━\u001b[0m \u001b[32m133.7/133.7 kB\u001b[0m \u001b[31m10.7 MB/s\u001b[0m eta \u001b[36m0:00:00\u001b[0m\n",
      "\u001b[?25hRequirement already satisfied: sympy in /Users/houkinwan/opt/anaconda3/lib/python3.9/site-packages (from torch>=1.13->stable-baselines3[extra]) (1.10.1)\n",
      "Requirement already satisfied: networkx in /Users/houkinwan/opt/anaconda3/lib/python3.9/site-packages (from torch>=1.13->stable-baselines3[extra]) (2.8.4)\n",
      "Requirement already satisfied: filelock in /Users/houkinwan/opt/anaconda3/lib/python3.9/site-packages (from torch>=1.13->stable-baselines3[extra]) (3.6.0)\n",
      "Requirement already satisfied: jinja2 in /Users/houkinwan/opt/anaconda3/lib/python3.9/site-packages (from torch>=1.13->stable-baselines3[extra]) (2.11.3)\n",
      "Requirement already satisfied: pyparsing>=2.2.1 in /Users/houkinwan/opt/anaconda3/lib/python3.9/site-packages (from matplotlib->stable-baselines3[extra]) (3.0.9)\n",
      "Requirement already satisfied: fonttools>=4.22.0 in /Users/houkinwan/opt/anaconda3/lib/python3.9/site-packages (from matplotlib->stable-baselines3[extra]) (4.25.0)\n",
      "Requirement already satisfied: cycler>=0.10 in /Users/houkinwan/opt/anaconda3/lib/python3.9/site-packages (from matplotlib->stable-baselines3[extra]) (0.11.0)\n",
      "Requirement already satisfied: packaging>=20.0 in /Users/houkinwan/opt/anaconda3/lib/python3.9/site-packages (from matplotlib->stable-baselines3[extra]) (23.2)\n",
      "Requirement already satisfied: kiwisolver>=1.0.1 in /Users/houkinwan/opt/anaconda3/lib/python3.9/site-packages (from matplotlib->stable-baselines3[extra]) (1.4.2)\n",
      "Requirement already satisfied: python-dateutil>=2.7 in /Users/houkinwan/opt/anaconda3/lib/python3.9/site-packages (from matplotlib->stable-baselines3[extra]) (2.8.2)\n",
      "Requirement already satisfied: pytz>=2020.1 in /Users/houkinwan/opt/anaconda3/lib/python3.9/site-packages (from pandas->stable-baselines3[extra]) (2022.1)\n",
      "Requirement already satisfied: pygments<3.0.0,>=2.13.0 in /Users/houkinwan/opt/anaconda3/lib/python3.9/site-packages (from rich->stable-baselines3[extra]) (2.16.1)\n",
      "Requirement already satisfied: markdown-it-py>=2.2.0 in /Users/houkinwan/opt/anaconda3/lib/python3.9/site-packages (from rich->stable-baselines3[extra]) (3.0.0)\n",
      "Requirement already satisfied: importlib-resources in /Users/houkinwan/opt/anaconda3/lib/python3.9/site-packages (from ale-py~=0.8.1->shimmy[atari]~=1.3.0->stable-baselines3[extra]) (6.0.1)\n",
      "Requirement already satisfied: zipp>=0.5 in /Users/houkinwan/opt/anaconda3/lib/python3.9/site-packages (from importlib-metadata>=4.8.0->gymnasium<0.30,>=0.28.1->stable-baselines3[extra]) (3.8.0)\n",
      "Requirement already satisfied: mdurl~=0.1 in /Users/houkinwan/opt/anaconda3/lib/python3.9/site-packages (from markdown-it-py>=2.2.0->rich->stable-baselines3[extra]) (0.1.2)\n"
     ]
    },
    {
     "name": "stdout",
     "output_type": "stream",
     "text": [
      "Requirement already satisfied: MarkupSafe>=0.23 in /Users/houkinwan/opt/anaconda3/lib/python3.9/site-packages (from jinja2->torch>=1.13->stable-baselines3[extra]) (2.0.1)\n",
      "Requirement already satisfied: idna<4,>=2.5 in /Users/houkinwan/opt/anaconda3/lib/python3.9/site-packages (from requests->autorom[accept-rom-license]~=0.6.1->stable-baselines3[extra]) (3.6)\n",
      "Requirement already satisfied: urllib3<1.27,>=1.21.1 in /Users/houkinwan/opt/anaconda3/lib/python3.9/site-packages (from requests->autorom[accept-rom-license]~=0.6.1->stable-baselines3[extra]) (1.26.11)\n",
      "Requirement already satisfied: charset-normalizer<3,>=2 in /Users/houkinwan/opt/anaconda3/lib/python3.9/site-packages (from requests->autorom[accept-rom-license]~=0.6.1->stable-baselines3[extra]) (2.0.4)\n",
      "Requirement already satisfied: certifi>=2017.4.17 in /Users/houkinwan/opt/anaconda3/lib/python3.9/site-packages (from requests->autorom[accept-rom-license]~=0.6.1->stable-baselines3[extra]) (2024.2.2)\n",
      "Requirement already satisfied: mpmath>=0.19 in /Users/houkinwan/opt/anaconda3/lib/python3.9/site-packages (from sympy->torch>=1.13->stable-baselines3[extra]) (1.2.1)\n",
      "Building wheels for collected packages: AutoROM.accept-rom-license\n",
      "  Building wheel for AutoROM.accept-rom-license (pyproject.toml) ... \u001b[?25ldone\n",
      "\u001b[?25h  Created wheel for AutoROM.accept-rom-license: filename=AutoROM.accept_rom_license-0.6.1-py3-none-any.whl size=446659 sha256=a433ab6b4224fc465b2a72fcd9d9d850a9ad5da365e7439afc063d30f48559c1\n",
      "  Stored in directory: /Users/houkinwan/Library/Caches/pip/wheels/b1/1f/f7/2da07cf4f81ea264bdaf043028749d88fe0c2227134a22cf80\n",
      "Successfully built AutoROM.accept-rom-license\n",
      "Installing collected packages: farama-notifications, tensorboard-data-server, pygame, grpcio, absl-py, tensorboard, gymnasium, AutoROM.accept-rom-license, autorom, ale-py, stable-baselines3, shimmy\n",
      "  Attempting uninstall: grpcio\n",
      "    Found existing installation: grpcio 1.47.5\n",
      "    Uninstalling grpcio-1.47.5:\n",
      "      Successfully uninstalled grpcio-1.47.5\n",
      "\u001b[31mERROR: pip's dependency resolver does not currently take into account all the packages that are installed. This behaviour is the source of the following dependency conflicts.\n",
      "jina 3.20.0 requires grpcio<1.48.1,>=1.46.0, but you have grpcio 1.62.1 which is incompatible.\n",
      "jina 3.20.0 requires pydantic<2.0.0, but you have pydantic 2.6.2 which is incompatible.\u001b[0m\u001b[31m\n",
      "\u001b[0mSuccessfully installed AutoROM.accept-rom-license-0.6.1 absl-py-2.1.0 ale-py-0.8.1 autorom-0.6.1 farama-notifications-0.0.4 grpcio-1.62.1 gymnasium-0.29.1 pygame-2.5.2 shimmy-1.3.0 stable-baselines3-2.2.1 tensorboard-2.16.2 tensorboard-data-server-0.7.2\n"
     ]
    }
   ],
   "source": [
    "!pip install stable-baselines3[extra]"
   ]
  },
  {
   "cell_type": "code",
   "execution_count": 112,
   "metadata": {},
   "outputs": [],
   "source": [
    "piece_dict = {'Tu': 0, 'Tr': 1, 'Td': 2, 'Tl': 3, 'Jl': 4, 'Ju': 5, 'Jr': 6, 'Jd': 7, 'Zh': 8, 'Zv': 9, 'O': 10, 'Sh': 11, 'Sv': 12, 'Lr': 13, 'Ld': 14, 'Ll': 15, 'Lu': 16, 'Iv': 17, 'Ih': 18}\n",
    "\n",
    "def process_board(board):\n",
    "    # Returns board, holes and boundaries\n",
    "    board = np.where(board == 239,0,1)\n",
    "    holes = np.zeros(board.shape[1], dtype=int)\n",
    "    boundaries = np.zeros(board.shape[1], dtype=int)\n",
    "\n",
    "    for col in range(board.shape[1]):\n",
    "        column_data = board[:, col]\n",
    "        first_block_idx = np.where(column_data == 1)[0]\n",
    "        if first_block_idx.size > 0:\n",
    "            first_block_idx = first_block_idx[0]\n",
    "            boundaries[col] = board.shape[0] - first_block_idx\n",
    "            holes[col] = np.count_nonzero(column_data[first_block_idx:] == 0)\n",
    "    \n",
    "    return board,holes,boundaries\n",
    "\n",
    "def concat_data(holes,boundaries,cur_piece,cleared_lines):\n",
    "    combined_array = np.concatenate((holes, boundaries,cur_piece))\n",
    "    final_array = np.append(combined_array, [cleared_lines])\n",
    "    return final_array\n",
    "\n",
    "done = True\n",
    "for step in range(5000):\n",
    "    if done:\n",
    "        state = env.reset()\n",
    "    state, reward, done, info = env.step(env.action_space.sample())\n",
    "    cur_piece = piece_dict[info[\"current_piece\"]]\n",
    "    cur_piece_ohe = np.zeros(19)\n",
    "    cur_piece_ohe[cur_piece] = 1\n",
    "    cleared_lines = info[\"number_of_lines\"]\n",
    "    board, holes, boundaries = process_board(env.board)\n",
    "    state_data = concat_data(holes,boundaries,cur_piece_ohe,cleared_lines)\n",
    "    state_data = state_data.copy()\n",
    "    state_data = torch.tensor(state_data, dtype=torch.float32)\n",
    "    "
   ]
  },
  {
   "cell_type": "code",
   "execution_count": 111,
   "metadata": {},
   "outputs": [
    {
     "data": {
      "text/plain": [
       "torch.Size([40])"
      ]
     },
     "execution_count": 111,
     "metadata": {},
     "output_type": "execute_result"
    }
   ],
   "source": [
    "state_data.shape"
   ]
  }
 ],
 "metadata": {
  "kernelspec": {
   "display_name": "Python 3 (ipykernel)",
   "language": "python",
   "name": "python3"
  },
  "language_info": {
   "codemirror_mode": {
    "name": "ipython",
    "version": 3
   },
   "file_extension": ".py",
   "mimetype": "text/x-python",
   "name": "python",
   "nbconvert_exporter": "python",
   "pygments_lexer": "ipython3",
   "version": "3.9.13"
  }
 },
 "nbformat": 4,
 "nbformat_minor": 2
}
